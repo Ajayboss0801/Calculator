{
 "cells": [
  {
   "cell_type": "code",
   "execution_count": null,
   "id": "5ddf4729-31d9-43c3-81e2-603c87610f83",
   "metadata": {},
   "outputs": [
    {
     "name": "stdout",
     "output_type": "stream",
     "text": [
      "hello, Welcome to the basic calculator\n"
     ]
    }
   ],
   "source": [
    "print(\"Hello, Welcome to the basic calculator\")\n",
    "\n",
    "def add(a,b):\n",
    "    return a+b\n",
    "\n",
    "def sub(a,b):\n",
    "    return a-b\n",
    "\n",
    "def mul(a,b):\n",
    "    return a*b\n",
    "\n",
    "def div(a,b):\n",
    "    return a/b\n",
    "\n",
    "operator = { \n",
    "   \"+\" : add,\n",
    "   \"-\" : sub,\n",
    "   \"*\" : mul,\n",
    "   \"/\" : div\n",
    "         }\n",
    "\n",
    "num1= float(input(\"enter the first number :\"  ))\n",
    "\n",
    "\n",
    "\n",
    "\n",
    "operation= input(\"select the operator : \"  )\n",
    "num2=float(input(\"enter the second number :\"  ))\n",
    "calculation = operator[operation]\n",
    "c1= calculation(num1,num2)\n",
    "print(f\"{num1} {operation} {num2} = {c1}\")\n"
   ]
  },
  {
   "cell_type": "code",
   "execution_count": null,
   "id": "ddcec66f-2f42-45c8-a089-39ced43b8458",
   "metadata": {},
   "outputs": [],
   "source": []
  },
  {
   "cell_type": "markdown",
   "id": "5c657397-881a-4f9d-9b7d-aa6fff8357e0",
   "metadata": {},
   "source": []
  },
  {
   "cell_type": "code",
   "execution_count": null,
   "id": "85647ae0-89ab-44ec-9eaa-2213d99181cc",
   "metadata": {},
   "outputs": [],
   "source": []
  }
 ],
 "metadata": {
  "kernelspec": {
   "display_name": "Python 3 (ipykernel)",
   "language": "python",
   "name": "python3"
  },
  "language_info": {
   "codemirror_mode": {
    "name": "ipython",
    "version": 3
   },
   "file_extension": ".py",
   "mimetype": "text/x-python",
   "name": "python",
   "nbconvert_exporter": "python",
   "pygments_lexer": "ipython3",
   "version": "3.11.5"
  }
 },
 "nbformat": 4,
 "nbformat_minor": 5
}
